{
 "cells": [
  {
   "cell_type": "code",
   "execution_count": 1,
   "metadata": {},
   "outputs": [],
   "source": [
    "import numpy as np\n",
    "import pandas as pd\n",
    "import matplotlib.pyplot as plt\n",
    "\n",
    "import torch\n",
    "import torch.nn as nn\n",
    "from torch.autograd import Variable\n",
    "\n",
    "import torchvision\n",
    "import torchvision.transforms as transforms\n",
    "from torch.utils.data import Dataset, DataLoader\n",
    "from sklearn.metrics import confusion_matrix\n",
    "\n",
    "import pickle\n",
    "import os"
   ]
  },
  {
   "cell_type": "code",
   "execution_count": 2,
   "metadata": {},
   "outputs": [],
   "source": [
    "device = torch.device(\"cuda:0\" if torch.cuda.is_available() else \"cpu\")"
   ]
  },
  {
   "cell_type": "markdown",
   "metadata": {},
   "source": [
    "## Getting Dataset"
   ]
  },
  {
   "cell_type": "code",
   "execution_count": 3,
   "metadata": {},
   "outputs": [],
   "source": [
    "train_dataset = torchvision.datasets.FashionMNIST(root='./data', download= True, train = True, transform = transforms.Compose([transforms.ToTensor()]))\n",
    "test_dataset = torchvision.datasets.FashionMNIST(root='./data', download= True, train = False, transform = transforms.Compose([transforms.ToTensor()]))"
   ]
  },
  {
   "cell_type": "markdown",
   "metadata": {},
   "source": [
    "## Making the data 3d and 224x224"
   ]
  },
  {
   "cell_type": "code",
   "execution_count": 4,
   "metadata": {},
   "outputs": [],
   "source": [
    "import torch.nn.functional as F\n",
    "import numpy as np\n",
    "from scipy.ndimage import zoom\n",
    "\n",
    "length = len(train_dataset.data)\n",
    "train_data = []\n",
    "\n",
    "for x in range(length):\n",
    "\n",
    "    test, target = train_dataset.__getitem__(x)\n",
    "    \n",
    "    test = test.unsqueeze(0)\n",
    "    \n",
    "    desired_shape = (224, 224)\n",
    "    resized_image = F.interpolate(test, size=desired_shape, mode='bilinear', align_corners=False)\n",
    "    \n",
    "    resized_image = resized_image.squeeze(0).squeeze(0)\n",
    "    resized_image = resized_image.numpy()\n",
    "\n",
    "    new_image = np.array([resized_image,resized_image,resized_image])\n",
    "    new_image = torch.tensor(new_image)\n",
    "    \n",
    "    train_data.insert(x, [new_image, target])\n",
    "\n",
    "test_file = '3d_224_test.pkl'\n",
    "\n",
    "with open(os.getcwd() + '/data/pickle_out/' + test_file, 'rb') as file:\n",
    "    test_data = pickle.load(file)"
   ]
  },
  {
   "cell_type": "code",
   "execution_count": 5,
   "metadata": {},
   "outputs": [],
   "source": [
    "# FOR DUMPING OUT THE 3D TENSORS\n",
    "\n",
    "# file_name = '3d_224_train.pkl' \n",
    "\n",
    "# with open(os.getcwd() + '/data/pickle_out/' + file_name, 'wb') as file:\n",
    "#     pickle.dump(new_data, file)"
   ]
  },
  {
   "cell_type": "code",
   "execution_count": 6,
   "metadata": {},
   "outputs": [],
   "source": [
    "from utils import FashionMnist_Dataset\n",
    "\n",
    "train_dataset = FashionMnist_Dataset(train_data)\n",
    "test_dataset = FashionMnist_Dataset(test_data)\n",
    "\n",
    "BATCH_SIZE = 128\n",
    "\n",
    "train_loader = torch.utils.data.DataLoader(train_dataset, batch_size=BATCH_SIZE)\n",
    "test_loader = torch.utils.data.DataLoader(test_dataset, batch_size=BATCH_SIZE)"
   ]
  },
  {
   "cell_type": "code",
   "execution_count": 7,
   "metadata": {},
   "outputs": [
    {
     "name": "stderr",
     "output_type": "stream",
     "text": [
      "Using cache found in C:\\Users\\ianch/.cache\\torch\\hub\\pytorch_vision_v0.10.0\n",
      "c:\\Users\\ianch\\AppData\\Local\\Programs\\Python\\Python311\\Lib\\site-packages\\torchvision\\models\\_utils.py:208: UserWarning: The parameter 'pretrained' is deprecated since 0.13 and may be removed in the future, please use 'weights' instead.\n",
      "  warnings.warn(\n",
      "c:\\Users\\ianch\\AppData\\Local\\Programs\\Python\\Python311\\Lib\\site-packages\\torchvision\\models\\_utils.py:223: UserWarning: Arguments other than a weight enum or `None` for 'weights' are deprecated since 0.13 and may be removed in the future. The current behavior is equivalent to passing `weights=GoogLeNet_Weights.IMAGENET1K_V1`. You can also use `weights=GoogLeNet_Weights.DEFAULT` to get the most up-to-date weights.\n",
      "  warnings.warn(msg)\n",
      "c:\\Users\\ianch\\AppData\\Local\\Programs\\Python\\Python311\\Lib\\site-packages\\torchvision\\transforms\\functional.py:1603: UserWarning: The default value of the antialias parameter of all the resizing transforms (Resize(), RandomResizedCrop(), etc.) will change from None to True in v0.17, in order to be consistent across the PIL and Tensor backends. To suppress this warning, directly pass antialias=True (recommended, future default), antialias=None (current default, which means False for Tensors and True for PIL), or antialias=False (only works on Tensors - PIL will still use antialiasing). This also applies if you are using the inference transforms from the models weights: update the call to weights.transforms(antialias=True).\n",
      "  warnings.warn(\n"
     ]
    },
    {
     "name": "stdout",
     "output_type": "stream",
     "text": [
      "Train Acc epoch 0 : 0.8776 \n",
      "Test Acc epoch 0 : 0.9166 \n",
      "Train Acc epoch 1 : 0.9227666666666666 \n",
      "Test Acc epoch 1 : 0.927 \n",
      "Train Acc epoch 2 : 0.9350833333333334 \n",
      "Test Acc epoch 2 : 0.9328 \n",
      "Train Acc epoch 3 : 0.9415666666666667 \n",
      "Test Acc epoch 3 : 0.9389 \n",
      "Train Acc epoch 4 : 0.9465 \n",
      "Test Acc epoch 4 : 0.9428 \n",
      "Train Acc epoch 5 : 0.9511166666666667 \n",
      "Test Acc epoch 5 : 0.9483 \n",
      "Train Acc epoch 6 : 0.9547666666666667 \n",
      "Test Acc epoch 6 : 0.9482 \n",
      "Train Acc epoch 7 : 0.95615 \n",
      "Test Acc epoch 7 : 0.9576 \n",
      "Train Acc epoch 8 : 0.9602 \n",
      "Test Acc epoch 8 : 0.9617 \n",
      "Train Acc epoch 9 : 0.9634333333333334 \n",
      "Test Acc epoch 9 : 0.9647 \n",
      "Train Acc epoch 10 : 0.9646 \n",
      "Test Acc epoch 10 : 0.9697 \n",
      "Train Acc epoch 11 : 0.96855 \n",
      "Test Acc epoch 11 : 0.9701 \n",
      "Train Acc epoch 12 : 0.9693166666666667 \n",
      "Test Acc epoch 12 : 0.9719 \n",
      "Train Acc epoch 13 : 0.9737 \n",
      "Test Acc epoch 13 : 0.9774 \n",
      "Train Acc epoch 14 : 0.9756833333333333 \n",
      "Test Acc epoch 14 : 0.9794 \n",
      "Train Acc epoch 15 : 0.9764333333333334 \n",
      "Test Acc epoch 15 : 0.981 \n",
      "Train Acc epoch 16 : 0.9782833333333333 \n",
      "Test Acc epoch 16 : 0.9853 \n",
      "Train Acc epoch 17 : 0.98005 \n",
      "Test Acc epoch 17 : 0.9853 \n",
      "Train Acc epoch 18 : 0.9816833333333334 \n",
      "Test Acc epoch 18 : 0.9856 \n",
      "Train Acc epoch 19 : 0.9837333333333333 \n",
      "Test Acc epoch 19 : 0.9863 \n",
      "Train Acc epoch 20 : 0.9836166666666667 \n",
      "Test Acc epoch 20 : 0.9866 \n",
      "Train Acc epoch 21 : 0.9858666666666667 \n",
      "Test Acc epoch 21 : 0.9915 \n",
      "Train Acc epoch 22 : 0.9872 \n",
      "Test Acc epoch 22 : 0.9897 \n",
      "Train Acc epoch 23 : 0.9861 \n",
      "Test Acc epoch 23 : 0.9918 \n",
      "Train Acc epoch 24 : 0.9878333333333333 \n",
      "Test Acc epoch 24 : 0.9925 \n",
      "Train Acc epoch 25 : 0.98865 \n",
      "Test Acc epoch 25 : 0.9951 \n",
      "Train Acc epoch 26 : 0.9898333333333333 \n",
      "Test Acc epoch 26 : 0.9946 \n",
      "Train Acc epoch 27 : 0.9888666666666667 \n",
      "Test Acc epoch 27 : 0.9939 \n",
      "Train Acc epoch 28 : 0.9907333333333334 \n",
      "Test Acc epoch 28 : 0.9962 \n",
      "Train Acc epoch 29 : 0.9897833333333333 \n",
      "Test Acc epoch 29 : 0.9948 \n",
      "Train Acc epoch 30 : 0.9916833333333334 \n",
      "Test Acc epoch 30 : 0.9963 \n",
      "Done! Early stopped at 30\n"
     ]
    }
   ],
   "source": [
    "from utils import train_loop, test_loop, EarlyStopper\n",
    "from pretrained_model import googleNet_pretrained\n",
    "\n",
    "num_epochs = 60\n",
    "lr = 0.001\n",
    "patience = 5\n",
    "\n",
    "early_stopper = EarlyStopper(patience=patience, min_delta=0)\n",
    "model = googleNet_pretrained(train_last_layer_only= False)\n",
    "\n",
    "model.to(device= device)\n",
    "\n",
    "loss_fn = nn.CrossEntropyLoss()\n",
    "optimizer = torch.optim.Adam(model.parameters(), lr = lr)\n",
    "\n",
    "tr_acc, te_acc = [], []\n",
    "tr_loss, te_loss = [], []\n",
    "\n",
    "best_acc = 0\n",
    "\n",
    "for epoch in range(num_epochs):\n",
    "    train_loss, train_correct = train_loop(train_loader, model, loss_fn, optimizer, device, cutmix=True)\n",
    "    test_loss, test_correct = test_loop(test_loader, model, loss_fn, device)\n",
    "\n",
    "    print('Train Acc epoch {} : {} '.format(epoch, train_correct))\n",
    "    print('Test Acc epoch {} : {} '.format(epoch, test_correct))\n",
    "\n",
    "    tr_acc.append(train_correct)\n",
    "    te_acc.append(test_correct)\n",
    "\n",
    "    tr_loss.append(train_loss)\n",
    "    te_loss.append(test_loss)\n",
    "\n",
    "    if early_stopper.early_stop(test_loss):\n",
    "        print(\"Done! Early stopped at {}\".format(epoch))\n",
    "        break\n",
    "\n"
   ]
  },
  {
   "cell_type": "code",
   "execution_count": 13,
   "metadata": {},
   "outputs": [
    {
     "data": {
      "image/png": "[encoded data removed]",
      "text/plain": [
       "<Figure size 640x480 with 1 Axes>"
      ]
     },
     "metadata": {},
     "output_type": "display_data"
    }
   ],
   "source": [
    "plt.plot(range(epoch+1), tr_acc, label='train')\n",
    "plt.plot(range(epoch+1), te_acc, label='test')\n",
    "\n",
    "plt.legend()\n",
    "plt.xlabel(\"No. of epochs\")\n",
    "plt.ylabel(\"Acc\")\n",
    "plt.title(\"Iterations vs Acc\")\n",
    "plt.show()"
   ]
  },
  {
   "cell_type": "code",
   "execution_count": 14,
   "metadata": {},
   "outputs": [
    {
     "data": {
      "image/png": "[encoded data removed]",
      "text/plain": [
       "<Figure size 640x480 with 1 Axes>"
      ]
     },
     "metadata": {},
     "output_type": "display_data"
    },
    {
     "ename": "",
     "evalue": "",
     "output_type": "error",
     "traceback": [
      "\u001b[1;31mThe Kernel crashed while executing code in the the current cell or a previous cell. Please review the code in the cell(s) to identify a possible cause of the failure. Click <a href='https://aka.ms/vscodeJupyterKernelCrash'>here</a> for more info. View Jupyter <a href='command:jupyter.viewOutput'>log</a> for further details."
     ]
    }
   ],
   "source": [
    "plt.plot(range(epoch+1), tr_loss, label='train')\n",
    "plt.plot(range(epoch+1), te_loss, label='test')\n",
    "plt.xlabel(\"No. of epochs\")\n",
    "plt.ylabel(\"Loss\")\n",
    "\n",
    "plt.legend()\n",
    "plt.title(\"Iterations vs Loss\")\n",
    "plt.show()"
   ]
  },
  {
   "cell_type": "code",
   "execution_count": 10,
   "metadata": {},
   "outputs": [
    {
     "name": "stdout",
     "output_type": "stream",
     "text": [
      "Best Acc : 0.9963 | Best Epoch : 30\n"
     ]
    }
   ],
   "source": [
    "print(\"Best Acc : {} | Best Epoch : {}\".format(max(te_acc), te_acc.index(max(te_acc))))"
   ]
  },
  {
   "cell_type": "markdown",
   "metadata": {},
   "source": [
    "## Pickle out results and accuracies"
   ]
  },
  {
   "cell_type": "code",
   "execution_count": 11,
   "metadata": {},
   "outputs": [],
   "source": [
    "import pickle\n",
    "import os\n",
    "\n",
    "file_name = 'pretrained_googlenet_unfreeze_cutmix.pkl' \n",
    "\n",
    "with open(os.getcwd() + '/results/' + file_name, 'wb') as file:\n",
    "    pickle.dump(tr_acc, file)\n",
    "    pickle.dump(te_acc, file)\n",
    "    pickle.dump(tr_loss, file)\n",
    "    pickle.dump(te_loss, file)"
   ]
  },
  {
   "cell_type": "markdown",
   "metadata": {},
   "source": [
    "## Pickle in results and accuracies"
   ]
  },
  {
   "cell_type": "code",
   "execution_count": 15,
   "metadata": {},
   "outputs": [
    {
     "name": "stdout",
     "output_type": "stream",
     "text": [
      "[0.8420333333333333, 0.8942, 0.9144833333333333, 0.9263833333333333, 0.9390333333333334, 0.9486, 0.9566833333333333, 0.9639333333333333, 0.96975, 0.9731666666666666, 0.97645, 0.9785333333333334, 0.9806333333333334, 0.9828, 0.9842333333333333, 0.9857, 0.9868666666666667, 0.9869, 0.9870833333333333, 0.9889, 0.9894333333333334, 0.9887666666666667, 0.9907833333333333, 0.9899]\n",
      "[0.8899, 0.9098, 0.9305, 0.9344, 0.9451, 0.9533, 0.9604, 0.9573, 0.9446, 0.9634, 0.9599, 0.9692, 0.975, 0.9792, 0.9737, 0.9737, 0.9844, 0.9773, 0.9894, 0.9821, 0.9849, 0.9865, 0.9894, 0.9862]\n",
      "[0.4539341896834783, 0.29724150975283703, 0.23936005581675562, 0.20553365839910692, 0.17077942168516674, 0.14441650747307722, 0.11986084810852553, 0.09995775003782055, 0.08466551990749495, 0.07275770507576299, 0.06505188774009972, 0.06180197454411224, 0.05448366027852584, 0.04823133617738789, 0.04571720627575637, 0.04224015526449567, 0.03937546303991107, 0.03728256960236743, 0.03894853849388477, 0.031703032937102645, 0.030561084012823658, 0.03316697704111511, 0.026661855341065053, 0.030075352360771388]\n",
      "[0.3045976589309896, 0.24718225363581117, 0.19749565357236276, 0.1953280417511588, 0.1648996819756192, 0.14497772264885214, 0.11868340299459554, 0.12981972338626022, 0.17308248510560717, 0.11523168198922379, 0.14586733906204924, 0.09074854953552353, 0.0705681194333492, 0.062175829989725914, 0.08726736169705444, 0.08768957454006866, 0.04690773380110367, 0.06790976636817758, 0.029451984609788283, 0.05914587461158442, 0.04904852863554082, 0.041587292936377876, 0.036471499937738065, 0.04647525616471346]\n"
     ]
    }
   ],
   "source": [
    "file_name = 'pretrained_googlenet_unfreeze_cutmix.pkl' \n",
    "\n",
    "with open(os.getcwd() + '/results/' + file_name, 'rb') as file:\n",
    "    tr_acc = pickle.load(file)\n",
    "    te_acc = pickle.load(file)\n",
    "    tr_loss = pickle.load(file)\n",
    "    te_loss = pickle.load(file)\n",
    "\n",
    "\n",
    "print(tr_acc)\n",
    "print(te_acc)\n",
    "print(tr_loss)\n",
    "print(te_loss)"
   ]
  },
  {
   "cell_type": "code",
   "execution_count": null,
   "metadata": {},
   "outputs": [],
   "source": []
  }
 ],
 "metadata": {
  "kernelspec": {
   "display_name": "Python 3",
   "language": "python",
   "name": "python3"
  },
  "language_info": {
   "codemirror_mode": {
    "name": "ipython",
    "version": 3
   },
   "file_extension": ".py",
   "mimetype": "text/x-python",
   "name": "python",
   "nbconvert_exporter": "python",
   "pygments_lexer": "ipython3",
   "version": "3.11.1"
  }
 },
 "nbformat": 4,
 "nbformat_minor": 2
}
